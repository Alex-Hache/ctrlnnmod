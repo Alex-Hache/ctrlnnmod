{
 "cells": [
  {
   "cell_type": "code",
   "execution_count": 11,
   "metadata": {},
   "outputs": [],
   "source": [
    "from ctrl_nmod.preprocessing.preprocessing import preprocess_mat_file\n",
    "from scipy.io import loadmat, savemat\n",
    "import os"
   ]
  },
  {
   "cell_type": "code",
   "execution_count": 12,
   "metadata": {},
   "outputs": [
    {
     "data": {
      "text/plain": [
       "'/home/alexandre/Bureau/Recherche/Simulation/libraries/ctrl_nmod'"
      ]
     },
     "execution_count": 12,
     "metadata": {},
     "output_type": "execute_result"
    }
   ],
   "source": [
    "os.getcwd()"
   ]
  },
  {
   "cell_type": "code",
   "execution_count": null,
   "metadata": {},
   "outputs": [],
   "source": []
  },
  {
   "cell_type": "code",
   "execution_count": 13,
   "metadata": {},
   "outputs": [],
   "source": [
    "train_path = \"./data/pendulum/pend_train.mat\"\n",
    "test_path = \"./data/pendulum/pend_test.mat\"\n",
    "\n",
    "mat_train = loadmat(os.path.join(os.getcwd(),train_path))\n",
    "mat_test = loadmat(os.path.join(os.getcwd(),test_path))\n"
   ]
  },
  {
   "cell_type": "code",
   "execution_count": 15,
   "metadata": {},
   "outputs": [
    {
     "ename": "TypeError",
     "evalue": "preprocess_mat_file() got an unexpected keyword argument 'nx'",
     "output_type": "error",
     "traceback": [
      "\u001b[0;31m---------------------------------------------------------------------------\u001b[0m",
      "\u001b[0;31mTypeError\u001b[0m                                 Traceback (most recent call last)",
      "Cell \u001b[0;32mIn[15], line 1\u001b[0m\n\u001b[0;32m----> 1\u001b[0m u_train, y_train, x_train, y_dot_train, ts \u001b[39m=\u001b[39m preprocess_mat_file(mat_train, nx\u001b[39m=\u001b[39;49m\u001b[39m2\u001b[39;49m)\n\u001b[1;32m      2\u001b[0m u_test, y_test, x_test, y_dot_test, ts \u001b[39m=\u001b[39m preprocess_mat_file(mat_test, nx\u001b[39m=\u001b[39m\u001b[39m2\u001b[39m)\n",
      "\u001b[0;31mTypeError\u001b[0m: preprocess_mat_file() got an unexpected keyword argument 'nx'"
     ]
    }
   ],
   "source": [
    "u_train, y_train, x_train, y_dot_train, ts = preprocess_mat_file(mat_train, nx=2)\n",
    "u_test, y_test, x_test, y_dot_test, ts = preprocess_mat_file(mat_test, nx=2)\n"
   ]
  }
 ],
 "metadata": {
  "kernelspec": {
   "display_name": "Python 3.8.15 ('feedback_lin_nn')",
   "language": "python",
   "name": "python3"
  },
  "language_info": {
   "codemirror_mode": {
    "name": "ipython",
    "version": 3
   },
   "file_extension": ".py",
   "mimetype": "text/x-python",
   "name": "python",
   "nbconvert_exporter": "python",
   "pygments_lexer": "ipython3",
   "version": "3.8.15"
  },
  "orig_nbformat": 4,
  "vscode": {
   "interpreter": {
    "hash": "25221b950022b74dfc1120ed1cd6046b3dbcbc41d37c948b9bcab4fe45b54663"
   }
  }
 },
 "nbformat": 4,
 "nbformat_minor": 2
}
